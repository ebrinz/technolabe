{
 "cells": [
  {
   "cell_type": "markdown",
   "metadata": {},
   "source": [
    "stestst"
   ]
  },
  {
   "cell_type": "code",
   "execution_count": 1,
   "metadata": {},
   "outputs": [
    {
     "name": "stdout",
     "output_type": "stream",
     "text": [
      "/Users/crashy/gits/technolabe\n"
     ]
    }
   ],
   "source": [
    "import os\n",
    "print(os.getcwd())\n",
    "\n",
    "os.chdir('/Users/crashy/gits/technolabe/astro-vector/')"
   ]
  },
  {
   "cell_type": "code",
   "execution_count": 5,
   "metadata": {},
   "outputs": [
    {
     "name": "stdout",
     "output_type": "stream",
     "text": [
      "2025-03-07 11:37:32,677 - PDFExtractor - INFO - NLTK resources downloaded successfully\n",
      "2025-03-07 11:37:32,678 - PDFExtractor - INFO - Starting processing of directory: data/docs\n",
      "2025-03-07 11:37:32,678 - PDFExtractor - INFO - Found 38 PDF files. Processing (sorted by size)...\n",
      "2025-03-07 11:37:32,679 - PDFExtractor - WARNING - pdfplumber not available. Install with: pip install pdfplumber\n",
      "2025-03-07 11:37:32,679 - PDFExtractor - WARNING - OCR not available. Install with: pip install pytesseract pdf2image\n"
     ]
    },
    {
     "name": "stderr",
     "output_type": "stream",
     "text": [
      "Processing PDF files:   0%|          | 0/38 [00:00<?, ?it/s]"
     ]
    },
    {
     "name": "stdout",
     "output_type": "stream",
     "text": [
      "2025-03-07 11:37:32,682 - PDFExtractor - INFO - Processing data/docs/Acarya K._Know Yourself…your signs …your destiny.pdf...\n"
     ]
    },
    {
     "name": "stderr",
     "output_type": "stream",
     "text": []
    },
    {
     "name": "stdout",
     "output_type": "stream",
     "text": [
      "2025-03-07 11:37:33,462 - PDFExtractor - INFO - Processed Acarya K._Know Yourself…your signs …your destiny.pdf: 730 sentences in 0.78 seconds\n"
     ]
    },
    {
     "name": "stderr",
     "output_type": "stream",
     "text": [
      "Processing PDF files:   3%|▎         | 1/38 [00:00<00:28,  1.28it/s]"
     ]
    },
    {
     "name": "stdout",
     "output_type": "stream",
     "text": [
      "2025-03-07 11:37:33,462 - PDFExtractor - INFO - Processing data/docs/202004132156500824Anil_Kumar_Porwa_jyotir_Western_Astrology.pdf...\n"
     ]
    },
    {
     "name": "stderr",
     "output_type": "stream",
     "text": []
    },
    {
     "name": "stdout",
     "output_type": "stream",
     "text": [
      "2025-03-07 11:37:34,256 - PDFExtractor - INFO - Processed 202004132156500824Anil_Kumar_Porwa_jyotir_Western_Astrology.pdf: 229 sentences in 0.79 seconds\n"
     ]
    },
    {
     "name": "stderr",
     "output_type": "stream",
     "text": [
      "Processing PDF files:   5%|▌         | 2/38 [00:01<00:28,  1.27it/s]"
     ]
    },
    {
     "name": "stdout",
     "output_type": "stream",
     "text": [
      "2025-03-07 11:37:34,257 - PDFExtractor - INFO - Processing data/docs/The Zodiac.pdf...\n"
     ]
    },
    {
     "name": "stderr",
     "output_type": "stream",
     "text": []
    },
    {
     "name": "stdout",
     "output_type": "stream",
     "text": [
      "2025-03-07 11:37:34,741 - PDFExtractor - INFO - Processed The Zodiac.pdf: 129 sentences in 0.48 seconds\n"
     ]
    },
    {
     "name": "stderr",
     "output_type": "stream",
     "text": [
      "Processing PDF files:   8%|▊         | 3/38 [00:02<00:22,  1.54it/s]"
     ]
    },
    {
     "name": "stdout",
     "output_type": "stream",
     "text": [
      "2025-03-07 11:37:34,742 - PDFExtractor - INFO - Processing data/docs/Astrology for Beginners_Anil Kumar Jain_rectification.pdf...\n"
     ]
    },
    {
     "name": "stderr",
     "output_type": "stream",
     "text": []
    },
    {
     "name": "stdout",
     "output_type": "stream",
     "text": [
      "2025-03-07 11:37:35,739 - PDFExtractor - INFO - Processed Astrology for Beginners_Anil Kumar Jain_rectification.pdf: 2839 sentences in 1.00 seconds\n"
     ]
    },
    {
     "name": "stderr",
     "output_type": "stream",
     "text": [
      "Processing PDF files:  11%|█         | 4/38 [00:03<00:26,  1.27it/s]"
     ]
    },
    {
     "name": "stdout",
     "output_type": "stream",
     "text": [
      "2025-03-07 11:37:35,739 - PDFExtractor - INFO - Processing data/docs/goeyardi-et-al-2021-financial-analysis-method-based-on-astrology-fibonacci-and-astronacci-to-find-a-date-of-direction.pdf...\n"
     ]
    },
    {
     "name": "stderr",
     "output_type": "stream",
     "text": []
    },
    {
     "name": "stdout",
     "output_type": "stream",
     "text": [
      "2025-03-07 11:37:35,967 - PDFExtractor - INFO - Processed goeyardi-et-al-2021-financial-analysis-method-based-on-astrology-fibonacci-and-astronacci-to-find-a-date-of-direction.pdf: 365 sentences in 0.23 seconds\n"
     ]
    },
    {
     "name": "stderr",
     "output_type": "stream",
     "text": [
      "Processing PDF files:  13%|█▎        | 5/38 [00:03<00:19,  1.71it/s]"
     ]
    },
    {
     "name": "stdout",
     "output_type": "stream",
     "text": [
      "2025-03-07 11:37:35,968 - PDFExtractor - INFO - Processing data/docs/The Project Gutenberg eBook of Within the Temple of Isis, by Belle M. Wagner_.pdf...\n"
     ]
    },
    {
     "name": "stderr",
     "output_type": "stream",
     "text": []
    },
    {
     "name": "stdout",
     "output_type": "stream",
     "text": [
      "2025-03-07 11:37:36,731 - PDFExtractor - INFO - Processed The Project Gutenberg eBook of Within the Temple of Isis, by Belle M. Wagner_.pdf: 918 sentences in 0.76 seconds\n"
     ]
    },
    {
     "name": "stderr",
     "output_type": "stream",
     "text": [
      "Processing PDF files:  16%|█▌        | 6/38 [00:04<00:20,  1.55it/s]"
     ]
    },
    {
     "name": "stdout",
     "output_type": "stream",
     "text": [
      "2025-03-07 11:37:36,732 - PDFExtractor - INFO - Processing data/docs/The Project Gutenberg eBook of Studies in Occultism, by H. P. Blavatsky_.pdf...\n"
     ]
    },
    {
     "name": "stderr",
     "output_type": "stream",
     "text": []
    },
    {
     "name": "stdout",
     "output_type": "stream",
     "text": [
      "2025-03-07 11:37:37,206 - PDFExtractor - INFO - Processed The Project Gutenberg eBook of Studies in Occultism, by H. P. Blavatsky_.pdf: 0 sentences in 0.47 seconds\n"
     ]
    },
    {
     "name": "stderr",
     "output_type": "stream",
     "text": [
      "Processing PDF files:  18%|█▊        | 7/38 [00:04<00:18,  1.69it/s]"
     ]
    },
    {
     "name": "stdout",
     "output_type": "stream",
     "text": [
      "2025-03-07 11:37:37,207 - PDFExtractor - INFO - Processing data/docs/The Project Gutenberg eBook of The Human Aura, by Swami Panchadasi_.pdf...\n"
     ]
    },
    {
     "name": "stderr",
     "output_type": "stream",
     "text": []
    },
    {
     "name": "stdout",
     "output_type": "stream",
     "text": [
      "2025-03-07 11:37:37,904 - PDFExtractor - INFO - Processed The Project Gutenberg eBook of The Human Aura, by Swami Panchadasi_.pdf: 755 sentences in 0.70 seconds\n"
     ]
    },
    {
     "name": "stderr",
     "output_type": "stream",
     "text": [
      "Processing PDF files:  21%|██        | 8/38 [00:05<00:18,  1.60it/s]"
     ]
    },
    {
     "name": "stdout",
     "output_type": "stream",
     "text": [
      "2025-03-07 11:37:37,905 - PDFExtractor - INFO - Processing data/docs/9780470098400-0735493.pdf...\n"
     ]
    },
    {
     "name": "stderr",
     "output_type": "stream",
     "text": []
    },
    {
     "name": "stdout",
     "output_type": "stream",
     "text": [
      "2025-03-07 11:37:38,037 - PDFExtractor - INFO - Processed 9780470098400-0735493.pdf: 191 sentences in 0.13 seconds\n"
     ]
    },
    {
     "name": "stderr",
     "output_type": "stream",
     "text": [
      "Processing PDF files:  24%|██▎       | 9/38 [00:05<00:13,  2.12it/s]"
     ]
    },
    {
     "name": "stdout",
     "output_type": "stream",
     "text": [
      "2025-03-07 11:37:38,038 - PDFExtractor - INFO - Processing data/docs/The Project Gutenberg eBook of The Kybalion A Study of The Hermetic Philosophy of Ancient Egypt and Greece, by Three Initiates.pdf...\n"
     ]
    },
    {
     "name": "stderr",
     "output_type": "stream",
     "text": []
    },
    {
     "name": "stdout",
     "output_type": "stream",
     "text": [
      "2025-03-07 11:37:39,270 - PDFExtractor - INFO - Processed The Project Gutenberg eBook of The Kybalion A Study of The Hermetic Philosophy of Ancient Egypt and Greece, by Three Initiates.pdf: 1303 sentences in 1.23 seconds\n"
     ]
    },
    {
     "name": "stderr",
     "output_type": "stream",
     "text": [
      "Processing PDF files:  26%|██▋       | 10/38 [00:06<00:19,  1.42it/s]"
     ]
    },
    {
     "name": "stdout",
     "output_type": "stream",
     "text": [
      "2025-03-07 11:37:39,271 - PDFExtractor - INFO - Processing data/docs/The Project Gutenberg eBook of The White Spark, by Orville Livingston Leach_.pdf...\n"
     ]
    },
    {
     "name": "stderr",
     "output_type": "stream",
     "text": []
    },
    {
     "name": "stdout",
     "output_type": "stream",
     "text": [
      "2025-03-07 11:37:39,896 - PDFExtractor - INFO - Processed The Project Gutenberg eBook of The White Spark, by Orville Livingston Leach_.pdf: 743 sentences in 0.63 seconds\n"
     ]
    },
    {
     "name": "stderr",
     "output_type": "stream",
     "text": [
      "Processing PDF files:  29%|██▉       | 11/38 [00:07<00:18,  1.47it/s]"
     ]
    },
    {
     "name": "stdout",
     "output_type": "stream",
     "text": [
      "2025-03-07 11:37:39,896 - PDFExtractor - INFO - Processing data/docs/elements-of-astrology.pdf...\n"
     ]
    },
    {
     "name": "stderr",
     "output_type": "stream",
     "text": []
    },
    {
     "name": "stdout",
     "output_type": "stream",
     "text": [
      "2025-03-07 11:37:41,257 - PDFExtractor - INFO - Processed elements-of-astrology.pdf: 2193 sentences in 1.36 seconds\n"
     ]
    },
    {
     "name": "stderr",
     "output_type": "stream",
     "text": [
      "Processing PDF files:  32%|███▏      | 12/38 [00:08<00:23,  1.13it/s]"
     ]
    },
    {
     "name": "stdout",
     "output_type": "stream",
     "text": [
      "2025-03-07 11:37:41,257 - PDFExtractor - INFO - Processing data/docs/Intro-To-Astrology-27-03-2012.pdf...\n"
     ]
    },
    {
     "name": "stderr",
     "output_type": "stream",
     "text": []
    },
    {
     "name": "stdout",
     "output_type": "stream",
     "text": [
      "2025-03-07 11:37:41,542 - PDFExtractor - INFO - Processed Intro-To-Astrology-27-03-2012.pdf: 156 sentences in 0.28 seconds\n"
     ]
    },
    {
     "name": "stderr",
     "output_type": "stream",
     "text": [
      "Processing PDF files:  34%|███▍      | 13/38 [00:08<00:17,  1.42it/s]"
     ]
    },
    {
     "name": "stdout",
     "output_type": "stream",
     "text": [
      "2025-03-07 11:37:41,543 - PDFExtractor - INFO - Processing data/docs/The Secrets of Black Arts _ Project Gutenberg.pdf...\n"
     ]
    },
    {
     "name": "stderr",
     "output_type": "stream",
     "text": []
    },
    {
     "name": "stdout",
     "output_type": "stream",
     "text": [
      "2025-03-07 11:37:42,915 - PDFExtractor - INFO - Processed The Secrets of Black Arts _ Project Gutenberg.pdf: 1290 sentences in 1.37 seconds\n"
     ]
    },
    {
     "name": "stderr",
     "output_type": "stream",
     "text": [
      "Processing PDF files:  37%|███▋      | 14/38 [00:10<00:21,  1.10it/s]"
     ]
    },
    {
     "name": "stdout",
     "output_type": "stream",
     "text": [
      "2025-03-07 11:37:42,916 - PDFExtractor - INFO - Processing data/docs/The Project Gutenberg eBook of The Initiates of the Flame, by Manly Palmer Hall_.pdf...\n"
     ]
    },
    {
     "name": "stderr",
     "output_type": "stream",
     "text": []
    },
    {
     "name": "stdout",
     "output_type": "stream",
     "text": [
      "2025-03-07 11:37:43,502 - PDFExtractor - INFO - Processed The Project Gutenberg eBook of The Initiates of the Flame, by Manly Palmer Hall_.pdf: 606 sentences in 0.59 seconds\n"
     ]
    },
    {
     "name": "stderr",
     "output_type": "stream",
     "text": [
      "Processing PDF files:  39%|███▉      | 15/38 [00:10<00:18,  1.23it/s]"
     ]
    },
    {
     "name": "stdout",
     "output_type": "stream",
     "text": [
      "2025-03-07 11:37:43,503 - PDFExtractor - INFO - Processing data/docs/SiderealAstrologyChart.pdf...\n"
     ]
    },
    {
     "name": "stderr",
     "output_type": "stream",
     "text": []
    },
    {
     "name": "stdout",
     "output_type": "stream",
     "text": [
      "2025-03-07 11:37:43,784 - PDFExtractor - INFO - Processed SiderealAstrologyChart.pdf: 108 sentences in 0.28 seconds\n"
     ]
    },
    {
     "name": "stderr",
     "output_type": "stream",
     "text": [
      "Processing PDF files:  42%|████▏     | 16/38 [00:11<00:14,  1.54it/s]"
     ]
    },
    {
     "name": "stdout",
     "output_type": "stream",
     "text": [
      "2025-03-07 11:37:43,784 - PDFExtractor - INFO - Processing data/docs/VedicAstrologyChart.pdf...\n"
     ]
    },
    {
     "name": "stderr",
     "output_type": "stream",
     "text": []
    },
    {
     "name": "stdout",
     "output_type": "stream",
     "text": [
      "2025-03-07 11:37:44,095 - PDFExtractor - INFO - Processed VedicAstrologyChart.pdf: 108 sentences in 0.31 seconds\n"
     ]
    },
    {
     "name": "stderr",
     "output_type": "stream",
     "text": [
      "Processing PDF files:  45%|████▍     | 17/38 [00:11<00:11,  1.82it/s]"
     ]
    },
    {
     "name": "stdout",
     "output_type": "stream",
     "text": [
      "2025-03-07 11:37:44,096 - PDFExtractor - INFO - Processing data/docs/The Project Gutenberg eBook of The Light of Egypt; Or, The Science of the Soul and the Stars — Volume 2, by Thomas H. Burgoyne and Belle M. Wagner.pdf...\n"
     ]
    },
    {
     "name": "stderr",
     "output_type": "stream",
     "text": []
    },
    {
     "name": "stdout",
     "output_type": "stream",
     "text": [
      "2025-03-07 11:37:45,898 - PDFExtractor - INFO - Processed The Project Gutenberg eBook of The Light of Egypt; Or, The Science of the Soul and the Stars — Volume 2, by Thomas H. Burgoyne and Belle M. Wagner.pdf: 1763 sentences in 1.80 seconds\n"
     ]
    },
    {
     "name": "stderr",
     "output_type": "stream",
     "text": [
      "Processing PDF files:  47%|████▋     | 18/38 [00:13<00:18,  1.08it/s]"
     ]
    },
    {
     "name": "stdout",
     "output_type": "stream",
     "text": [
      "2025-03-07 11:37:45,899 - PDFExtractor - INFO - Processing data/docs/The Project Gutenberg eBook of Thaumaturgia; Or, Elucidations of the Marvellous, by Oxonian.pdf...\n"
     ]
    },
    {
     "name": "stderr",
     "output_type": "stream",
     "text": []
    },
    {
     "name": "stdout",
     "output_type": "stream",
     "text": [
      "2025-03-07 11:37:48,999 - PDFExtractor - INFO - Processed The Project Gutenberg eBook of Thaumaturgia; Or, Elucidations of the Marvellous, by Oxonian.pdf: 2746 sentences in 3.10 seconds\n"
     ]
    },
    {
     "name": "stderr",
     "output_type": "stream",
     "text": [
      "Processing PDF files:  50%|█████     | 19/38 [00:16<00:30,  1.58s/it]"
     ]
    },
    {
     "name": "stdout",
     "output_type": "stream",
     "text": [
      "2025-03-07 11:37:49,000 - PDFExtractor - INFO - Processing data/docs/1two85kx8wu79mgk7jzy.pdf...\n"
     ]
    },
    {
     "name": "stderr",
     "output_type": "stream",
     "text": []
    },
    {
     "name": "stdout",
     "output_type": "stream",
     "text": [
      "2025-03-07 11:37:50,763 - PDFExtractor - INFO - Processed 1two85kx8wu79mgk7jzy.pdf: 4610 sentences in 1.76 seconds\n"
     ]
    },
    {
     "name": "stderr",
     "output_type": "stream",
     "text": [
      "Processing PDF files:  53%|█████▎    | 20/38 [00:18<00:29,  1.63s/it]"
     ]
    },
    {
     "name": "stdout",
     "output_type": "stream",
     "text": [
      "2025-03-07 11:37:50,763 - PDFExtractor - INFO - Processing data/docs/An Outline of Occult Science by Rudolf Steiner.pdf...\n"
     ]
    },
    {
     "name": "stderr",
     "output_type": "stream",
     "text": []
    },
    {
     "name": "stdout",
     "output_type": "stream",
     "text": [
      "2025-03-07 11:37:54,536 - PDFExtractor - INFO - Processed An Outline of Occult Science by Rudolf Steiner.pdf: 4189 sentences in 3.77 seconds\n"
     ]
    },
    {
     "name": "stderr",
     "output_type": "stream",
     "text": [
      "Processing PDF files:  55%|█████▌    | 21/38 [00:21<00:38,  2.28s/it]"
     ]
    },
    {
     "name": "stdout",
     "output_type": "stream",
     "text": [
      "2025-03-07 11:37:54,537 - PDFExtractor - INFO - Processing data/docs/use-of-fixed-stars-in-astrology.pdf...\n"
     ]
    },
    {
     "name": "stderr",
     "output_type": "stream",
     "text": []
    },
    {
     "name": "stdout",
     "output_type": "stream",
     "text": [
      "2025-03-07 11:37:57,264 - PDFExtractor - INFO - Processed use-of-fixed-stars-in-astrology.pdf: 5870 sentences in 2.73 seconds\n"
     ]
    },
    {
     "name": "stderr",
     "output_type": "stream",
     "text": [
      "Processing PDF files:  58%|█████▊    | 22/38 [00:24<00:38,  2.41s/it]"
     ]
    },
    {
     "name": "stdout",
     "output_type": "stream",
     "text": [
      "2025-03-07 11:37:57,265 - PDFExtractor - INFO - Processing data/docs/Human Animals by Frank Hamel--A Project Gutenberg eBook_.pdf...\n"
     ]
    },
    {
     "name": "stderr",
     "output_type": "stream",
     "text": []
    },
    {
     "name": "stdout",
     "output_type": "stream",
     "text": [
      "2025-03-07 11:38:00,035 - PDFExtractor - INFO - Processed Human Animals by Frank Hamel--A Project Gutenberg eBook_.pdf: 36 sentences in 2.77 seconds\n"
     ]
    },
    {
     "name": "stderr",
     "output_type": "stream",
     "text": [
      "Processing PDF files:  61%|██████    | 23/38 [00:27<00:37,  2.52s/it]"
     ]
    },
    {
     "name": "stdout",
     "output_type": "stream",
     "text": [
      "2025-03-07 11:38:00,036 - PDFExtractor - INFO - Processing data/docs/BigThree.pdf...\n"
     ]
    },
    {
     "name": "stderr",
     "output_type": "stream",
     "text": []
    },
    {
     "name": "stdout",
     "output_type": "stream",
     "text": [
      "2025-03-07 11:38:01,940 - PDFExtractor - INFO - Processed BigThree.pdf: 761 sentences in 1.90 seconds\n"
     ]
    },
    {
     "name": "stderr",
     "output_type": "stream",
     "text": [
      "Processing PDF files:  63%|██████▎   | 24/38 [00:29<00:32,  2.34s/it]"
     ]
    },
    {
     "name": "stdout",
     "output_type": "stream",
     "text": [
      "2025-03-07 11:38:01,940 - PDFExtractor - INFO - Processing data/docs/VedicAstrologyforEveryone.pdf...\n"
     ]
    },
    {
     "name": "stderr",
     "output_type": "stream",
     "text": []
    },
    {
     "name": "stdout",
     "output_type": "stream",
     "text": [
      "2025-03-07 11:38:03,468 - PDFExtractor - INFO - Processed VedicAstrologyforEveryone.pdf: 688 sentences in 1.53 seconds\n"
     ]
    },
    {
     "name": "stderr",
     "output_type": "stream",
     "text": [
      "Processing PDF files:  66%|██████▌   | 25/38 [00:30<00:27,  2.09s/it]"
     ]
    },
    {
     "name": "stdout",
     "output_type": "stream",
     "text": [
      "2025-03-07 11:38:03,469 - PDFExtractor - INFO - Processing data/docs/AstrologyforBeginners.pdf...\n"
     ]
    },
    {
     "name": "stderr",
     "output_type": "stream",
     "text": []
    },
    {
     "name": "stdout",
     "output_type": "stream",
     "text": [
      "2025-03-07 11:38:05,266 - PDFExtractor - INFO - Processed AstrologyforBeginners.pdf: 774 sentences in 1.80 seconds\n"
     ]
    },
    {
     "name": "stderr",
     "output_type": "stream",
     "text": [
      "Processing PDF files:  68%|██████▊   | 26/38 [00:32<00:24,  2.00s/it]"
     ]
    },
    {
     "name": "stdout",
     "output_type": "stream",
     "text": [
      "2025-03-07 11:38:05,266 - PDFExtractor - INFO - Processing data/docs/theonlyastrologybookyouwilleverneed.pdf...\n"
     ]
    },
    {
     "name": "stderr",
     "output_type": "stream",
     "text": []
    },
    {
     "name": "stdout",
     "output_type": "stream",
     "text": [
      "2025-03-07 11:38:09,785 - PDFExtractor - INFO - Processed theonlyastrologybookyouwilleverneed.pdf: 9976 sentences in 4.52 seconds\n"
     ]
    },
    {
     "name": "stderr",
     "output_type": "stream",
     "text": [
      "Processing PDF files:  71%|███████   | 27/38 [00:37<00:30,  2.76s/it]"
     ]
    },
    {
     "name": "stdout",
     "output_type": "stream",
     "text": [
      "2025-03-07 11:38:09,786 - PDFExtractor - INFO - Processing data/docs/SaturninSigns.pdf...\n"
     ]
    },
    {
     "name": "stderr",
     "output_type": "stream",
     "text": []
    },
    {
     "name": "stdout",
     "output_type": "stream",
     "text": [
      "2025-03-07 11:38:11,032 - PDFExtractor - INFO - Processed SaturninSigns.pdf: 504 sentences in 1.25 seconds\n"
     ]
    },
    {
     "name": "stderr",
     "output_type": "stream",
     "text": [
      "Processing PDF files:  74%|███████▎  | 28/38 [00:38<00:23,  2.31s/it]"
     ]
    },
    {
     "name": "stdout",
     "output_type": "stream",
     "text": [
      "2025-03-07 11:38:11,032 - PDFExtractor - INFO - Processing data/docs/vedic_astro_textbook.pdf...\n"
     ]
    },
    {
     "name": "stderr",
     "output_type": "stream",
     "text": []
    },
    {
     "name": "stdout",
     "output_type": "stream",
     "text": [
      "2025-03-07 11:38:18,327 - PDFExtractor - INFO - Processed vedic_astro_textbook.pdf: 8719 sentences in 7.29 seconds\n"
     ]
    },
    {
     "name": "stderr",
     "output_type": "stream",
     "text": [
      "Processing PDF files:  76%|███████▋  | 29/38 [00:45<00:34,  3.80s/it]"
     ]
    },
    {
     "name": "stdout",
     "output_type": "stream",
     "text": [
      "2025-03-07 11:38:18,328 - PDFExtractor - INFO - Processing data/docs/Essential_Astrology_-_Amy_Herring.pdf...\n"
     ]
    },
    {
     "name": "stderr",
     "output_type": "stream",
     "text": []
    },
    {
     "name": "stdout",
     "output_type": "stream",
     "text": [
      "2025-03-07 11:38:21,861 - PDFExtractor - INFO - Processed Essential_Astrology_-_Amy_Herring.pdf: 4554 sentences in 3.53 seconds\n"
     ]
    },
    {
     "name": "stderr",
     "output_type": "stream",
     "text": [
      "Processing PDF files:  79%|███████▉  | 30/38 [00:49<00:29,  3.72s/it]"
     ]
    },
    {
     "name": "stdout",
     "output_type": "stream",
     "text": [
      "2025-03-07 11:38:21,862 - PDFExtractor - INFO - Processing data/docs/45674591.pdf...\n"
     ]
    },
    {
     "name": "stderr",
     "output_type": "stream",
     "text": []
    },
    {
     "name": "stdout",
     "output_type": "stream",
     "text": [
      "2025-03-07 11:38:25,500 - PDFExtractor - INFO - Processed 45674591.pdf: 6 sentences in 3.64 seconds\n"
     ]
    },
    {
     "name": "stderr",
     "output_type": "stream",
     "text": [
      "Processing PDF files:  82%|████████▏ | 31/38 [00:52<00:25,  3.70s/it]"
     ]
    },
    {
     "name": "stdout",
     "output_type": "stream",
     "text": [
      "2025-03-07 11:38:25,500 - PDFExtractor - INFO - Processing data/docs/The lesser key of Solomon _ Project Gutenberg.pdf...\n"
     ]
    },
    {
     "name": "stderr",
     "output_type": "stream",
     "text": []
    },
    {
     "name": "stdout",
     "output_type": "stream",
     "text": [
      "2025-03-07 11:38:26,285 - PDFExtractor - INFO - Processed The lesser key of Solomon _ Project Gutenberg.pdf: 0 sentences in 0.78 seconds\n"
     ]
    },
    {
     "name": "stderr",
     "output_type": "stream",
     "text": [
      "Processing PDF files:  84%|████████▍ | 32/38 [00:53<00:16,  2.82s/it]"
     ]
    },
    {
     "name": "stdout",
     "output_type": "stream",
     "text": [
      "2025-03-07 11:38:26,285 - PDFExtractor - INFO - Processing data/docs/lal-ketab-astrology-book.pdf...\n"
     ]
    },
    {
     "name": "stderr",
     "output_type": "stream",
     "text": []
    },
    {
     "name": "stdout",
     "output_type": "stream",
     "text": [
      "2025-03-07 11:38:30,843 - PDFExtractor - INFO - Processed lal-ketab-astrology-book.pdf: 10455 sentences in 4.56 seconds\n"
     ]
    },
    {
     "name": "stderr",
     "output_type": "stream",
     "text": [
      "Processing PDF files:  87%|████████▋ | 33/38 [00:58<00:16,  3.34s/it]"
     ]
    },
    {
     "name": "stdout",
     "output_type": "stream",
     "text": [
      "2025-03-07 11:38:30,844 - PDFExtractor - INFO - Processing data/docs/CERN-ARCH-PMC-06-353.pdf...\n"
     ]
    },
    {
     "name": "stderr",
     "output_type": "stream",
     "text": []
    },
    {
     "name": "stdout",
     "output_type": "stream",
     "text": [
      "2025-03-07 11:38:30,857 - PDFExtractor - WARNING - Suspiciously little text (0 chars) from 20 pages\n",
      "2025-03-07 11:38:30,858 - PDFExtractor - WARNING - No text extracted from CERN-ARCH-PMC-06-353.pdf, skipping\n",
      "2025-03-07 11:38:30,858 - PDFExtractor - INFO - Processing data/docs/A.K. Gour_Astrology of Professions.pdf...\n"
     ]
    },
    {
     "name": "stderr",
     "output_type": "stream",
     "text": []
    },
    {
     "name": "stdout",
     "output_type": "stream",
     "text": [
      "2025-03-07 11:38:33,176 - PDFExtractor - INFO - Processed A.K. Gour_Astrology of Professions.pdf: 2805 sentences in 2.32 seconds\n"
     ]
    },
    {
     "name": "stderr",
     "output_type": "stream",
     "text": [
      "Processing PDF files:  92%|█████████▏| 35/38 [01:00<00:07,  2.34s/it]"
     ]
    },
    {
     "name": "stdout",
     "output_type": "stream",
     "text": [
      "2025-03-07 11:38:33,177 - PDFExtractor - INFO - Processing data/docs/The Project Gutenberg eBook of Occult Chemistry, by Annie Besant and Charles W. Leadbeater.pdf...\n"
     ]
    },
    {
     "name": "stderr",
     "output_type": "stream",
     "text": []
    },
    {
     "name": "stdout",
     "output_type": "stream",
     "text": [
      "2025-03-07 11:38:34,265 - PDFExtractor - INFO - Processed The Project Gutenberg eBook of Occult Chemistry, by Annie Besant and Charles W. Leadbeater.pdf: 85 sentences in 1.09 seconds\n"
     ]
    },
    {
     "name": "stderr",
     "output_type": "stream",
     "text": [
      "Processing PDF files:  95%|█████████▍| 36/38 [01:01<00:04,  2.03s/it]"
     ]
    },
    {
     "name": "stdout",
     "output_type": "stream",
     "text": [
      "2025-03-07 11:38:34,266 - PDFExtractor - INFO - Processing data/docs/Cosmic Symbolism _ Project Gutenberg.pdf...\n"
     ]
    },
    {
     "name": "stderr",
     "output_type": "stream",
     "text": []
    },
    {
     "name": "stdout",
     "output_type": "stream",
     "text": [
      "2025-03-07 11:38:36,420 - PDFExtractor - INFO - Processed Cosmic Symbolism _ Project Gutenberg.pdf: 357 sentences in 2.15 seconds\n"
     ]
    },
    {
     "name": "stderr",
     "output_type": "stream",
     "text": [
      "Processing PDF files:  97%|█████████▋| 37/38 [01:03<00:02,  2.06s/it]"
     ]
    },
    {
     "name": "stdout",
     "output_type": "stream",
     "text": [
      "2025-03-07 11:38:36,421 - PDFExtractor - INFO - Processing data/docs/service-gdc-gdclccn-ca-31-00-07-69-ca31000769-ca31000769.pdf...\n"
     ]
    },
    {
     "name": "stderr",
     "output_type": "stream",
     "text": []
    },
    {
     "name": "stdout",
     "output_type": "stream",
     "text": [
      "2025-03-07 11:38:47,394 - PDFExtractor - INFO - Processed service-gdc-gdclccn-ca-31-00-07-69-ca31000769-ca31000769.pdf: 1922 sentences in 10.97 seconds\n"
     ]
    },
    {
     "name": "stderr",
     "output_type": "stream",
     "text": [
      "Processing PDF files: 100%|██████████| 38/38 [01:14<00:00,  1.97s/it]"
     ]
    },
    {
     "name": "stdout",
     "output_type": "stream",
     "text": [
      "2025-03-07 11:38:47,396 - PDFExtractor - INFO - Raw extracted text saved to data/extracted_text.txt\n",
      "2025-03-07 11:38:47,396 - PDFExtractor - INFO - Cleaned text for Word2Vec saved to data/cleaned_text.txt\n",
      "2025-03-07 11:38:47,397 - PDFExtractor - INFO - Processing complete in 74.72 seconds\n",
      "2025-03-07 11:38:47,397 - PDFExtractor - INFO - Successfully processed 37 files (0 with OCR, 0 with fallback)\n",
      "2025-03-07 11:38:47,397 - PDFExtractor - INFO - Skipped 1 files\n",
      "2025-03-07 11:38:47,398 - PDFExtractor - INFO - Found 73483 sentences for Word2Vec training\n",
      "2025-03-07 11:38:47,398 - PDFExtractor - INFO - Training Word2Vec model...\n",
      "2025-03-07 11:38:47,398 - PDFExtractor - INFO - Using 10 CPU cores for training\n",
      "2025-03-07 11:38:47,399 - gensim.models.word2vec - INFO - collecting all words and their counts\n",
      "2025-03-07 11:38:47,400 - gensim.models.word2vec - INFO - PROGRESS: at sentence #0, processed 0 words, keeping 0 word types\n",
      "2025-03-07 11:38:47,412 - gensim.models.word2vec - INFO - PROGRESS: at sentence #10000, processed 114200 words, keeping 17214 word types\n",
      "2025-03-07 11:38:47,429 - gensim.models.word2vec - INFO - PROGRESS: at sentence #20000, processed 251829 words, keeping 27858 word types\n"
     ]
    },
    {
     "name": "stderr",
     "output_type": "stream",
     "text": [
      "\n"
     ]
    },
    {
     "name": "stdout",
     "output_type": "stream",
     "text": [
      "2025-03-07 11:38:47,444 - gensim.models.word2vec - INFO - PROGRESS: at sentence #30000, processed 375317 words, keeping 34598 word types\n",
      "2025-03-07 11:38:47,458 - gensim.models.word2vec - INFO - PROGRESS: at sentence #40000, processed 475489 words, keeping 42805 word types\n",
      "2025-03-07 11:38:47,470 - gensim.models.word2vec - INFO - PROGRESS: at sentence #50000, processed 561955 words, keeping 48076 word types\n",
      "2025-03-07 11:38:47,505 - gensim.models.word2vec - INFO - PROGRESS: at sentence #60000, processed 670726 words, keeping 50903 word types\n",
      "2025-03-07 11:38:47,522 - gensim.models.word2vec - INFO - PROGRESS: at sentence #70000, processed 763275 words, keeping 51883 word types\n",
      "2025-03-07 11:38:47,527 - gensim.models.word2vec - INFO - collected 53042 word types from a corpus of 801729 raw words and 73483 sentences\n",
      "2025-03-07 11:38:47,527 - gensim.models.word2vec - INFO - Creating a fresh vocabulary\n",
      "2025-03-07 11:38:47,541 - gensim.utils - INFO - Word2Vec lifecycle event {'msg': 'effective_min_count=20 retains 5383 unique words (10.15% of original 53042, drops 47659)', 'datetime': '2025-03-07T11:38:47.541277', 'gensim': '4.3.3', 'python': '3.11.11 (main, Dec  3 2024, 17:20:40) [Clang 16.0.0 (clang-1600.0.26.4)]', 'platform': 'macOS-15.3.1-arm64-arm-64bit', 'event': 'prepare_vocab'}\n",
      "2025-03-07 11:38:47,541 - gensim.utils - INFO - Word2Vec lifecycle event {'msg': 'effective_min_count=20 leaves 651684 word corpus (81.28% of original 801729, drops 150045)', 'datetime': '2025-03-07T11:38:47.541775', 'gensim': '4.3.3', 'python': '3.11.11 (main, Dec  3 2024, 17:20:40) [Clang 16.0.0 (clang-1600.0.26.4)]', 'platform': 'macOS-15.3.1-arm64-arm-64bit', 'event': 'prepare_vocab'}\n",
      "2025-03-07 11:38:47,553 - gensim.models.word2vec - INFO - deleting the raw counts dictionary of 53042 items\n",
      "2025-03-07 11:38:47,554 - gensim.models.word2vec - INFO - sample=0.001 downsamples 27 most-common words\n",
      "2025-03-07 11:38:47,554 - gensim.utils - INFO - Word2Vec lifecycle event {'msg': 'downsampling leaves estimated 624126.9847187756 word corpus (95.8%% of prior 651684)', 'datetime': '2025-03-07T11:38:47.554779', 'gensim': '4.3.3', 'python': '3.11.11 (main, Dec  3 2024, 17:20:40) [Clang 16.0.0 (clang-1600.0.26.4)]', 'platform': 'macOS-15.3.1-arm64-arm-64bit', 'event': 'prepare_vocab'}\n",
      "2025-03-07 11:38:47,573 - gensim.models.word2vec - INFO - estimated required memory for 5383 words and 400 dimensions: 19917100 bytes\n",
      "2025-03-07 11:38:47,573 - gensim.models.word2vec - INFO - resetting layer weights\n",
      "2025-03-07 11:38:47,580 - gensim.utils - INFO - Word2Vec lifecycle event {'update': False, 'trim_rule': 'None', 'datetime': '2025-03-07T11:38:47.580556', 'gensim': '4.3.3', 'python': '3.11.11 (main, Dec  3 2024, 17:20:40) [Clang 16.0.0 (clang-1600.0.26.4)]', 'platform': 'macOS-15.3.1-arm64-arm-64bit', 'event': 'build_vocab'}\n",
      "2025-03-07 11:38:47,581 - gensim.utils - INFO - Word2Vec lifecycle event {'msg': 'training model with 10 workers on 5383 vocabulary and 400 features, using sg=1 hs=0 sample=0.001 negative=5 window=10 shrink_windows=True', 'datetime': '2025-03-07T11:38:47.581082', 'gensim': '4.3.3', 'python': '3.11.11 (main, Dec  3 2024, 17:20:40) [Clang 16.0.0 (clang-1600.0.26.4)]', 'platform': 'macOS-15.3.1-arm64-arm-64bit', 'event': 'train'}\n",
      "2025-03-07 11:38:48,613 - gensim.models.word2vec - INFO - EPOCH 0 - PROGRESS: at 98.94% examples, 601946 words/s, in_qsize 1, out_qsize 1\n",
      "2025-03-07 11:38:48,616 - gensim.models.word2vec - INFO - EPOCH 0: training on 801729 raw words (624105 effective words) took 1.0s, 608505 effective words/s\n",
      "2025-03-07 11:38:49,626 - gensim.models.word2vec - INFO - EPOCH 1 - PROGRESS: at 98.94% examples, 613776 words/s, in_qsize 1, out_qsize 1\n",
      "2025-03-07 11:38:49,627 - gensim.models.word2vec - INFO - EPOCH 1: training on 801729 raw words (624060 effective words) took 1.0s, 621520 effective words/s\n",
      "2025-03-07 11:38:50,638 - gensim.models.word2vec - INFO - EPOCH 2 - PROGRESS: at 96.60% examples, 596778 words/s, in_qsize 3, out_qsize 1\n",
      "2025-03-07 11:38:50,675 - gensim.models.word2vec - INFO - EPOCH 2: training on 801729 raw words (624187 effective words) took 1.0s, 599341 effective words/s\n",
      "2025-03-07 11:38:51,639 - gensim.models.word2vec - INFO - EPOCH 3: training on 801729 raw words (623982 effective words) took 1.0s, 651791 effective words/s\n",
      "2025-03-07 11:38:52,601 - gensim.models.word2vec - INFO - EPOCH 4: training on 801729 raw words (624032 effective words) took 1.0s, 654051 effective words/s\n",
      "2025-03-07 11:38:52,601 - gensim.utils - INFO - Word2Vec lifecycle event {'msg': 'training on 4008645 raw words (3120366 effective words) took 5.0s, 621579 effective words/s', 'datetime': '2025-03-07T11:38:52.601645', 'gensim': '4.3.3', 'python': '3.11.11 (main, Dec  3 2024, 17:20:40) [Clang 16.0.0 (clang-1600.0.26.4)]', 'platform': 'macOS-15.3.1-arm64-arm-64bit', 'event': 'train'}\n",
      "2025-03-07 11:38:52,601 - gensim.utils - INFO - Word2Vec lifecycle event {'params': 'Word2Vec<vocab=5383, vector_size=400, alpha=0.025>', 'datetime': '2025-03-07T11:38:52.601869', 'gensim': '4.3.3', 'python': '3.11.11 (main, Dec  3 2024, 17:20:40) [Clang 16.0.0 (clang-1600.0.26.4)]', 'platform': 'macOS-15.3.1-arm64-arm-64bit', 'event': 'created'}\n",
      "2025-03-07 11:38:52,602 - gensim.utils - INFO - Word2Vec lifecycle event {'fname_or_handle': 'models/astro_vec_model', 'separately': 'None', 'sep_limit': 10485760, 'ignore': frozenset(), 'datetime': '2025-03-07T11:38:52.602293', 'gensim': '4.3.3', 'python': '3.11.11 (main, Dec  3 2024, 17:20:40) [Clang 16.0.0 (clang-1600.0.26.4)]', 'platform': 'macOS-15.3.1-arm64-arm-64bit', 'event': 'saving'}\n",
      "2025-03-07 11:38:52,602 - gensim.utils - INFO - not storing attribute cum_table\n",
      "2025-03-07 11:38:52,611 - gensim.utils - INFO - saved models/astro_vec_model\n",
      "2025-03-07 11:38:52,612 - PDFExtractor - INFO - Word2Vec model saved to models/astro_vec_model (training took 5.21 seconds)\n",
      "2025-03-07 11:38:52,612 - PDFExtractor - INFO - Vocabulary size: 5383 words\n",
      "2025-03-07 11:38:52,617 - PDFExtractor - INFO - Words most similar to 'cancer': [('allows', 0.5637847781181335), ('conflicts', 0.5563676357269287), ('trying', 0.5456418991088867), ('avoiding', 0.5448976755142212), ('moody', 0.5374504923820496)]\n",
      "2025-03-07 11:38:52,618 - PDFExtractor - INFO - Words most similar to 'astrology': [('vedic', 0.6239954233169556), ('applications', 0.5457046627998352), ('remedial', 0.5436086058616638), ('traditional', 0.5366339087486267), ('introduction', 0.5350218415260315)]\n",
      "2025-03-07 11:38:52,619 - PDFExtractor - INFO - Total processing time: 79.94 seconds\n",
      "Results: {'processed_files': 37, 'skipped_files': 1, 'ocr_processed': 0, 'fallback_processed': 0, 'total_sentences': 73483, 'processing_time': 74.71889209747314, 'total_time': 79.94123196601868}\n"
     ]
    }
   ],
   "source": [
    "# Import the modules from the new file structure\n",
    "from utils.common.logging_config import setup_logging, download_nltk_resources\n",
    "from utils.main import process_directory\n",
    "\n",
    "# Download NLTK resources if needed\n",
    "download_nltk_resources()\n",
    "\n",
    "# Set up logging\n",
    "logger = setup_logging()\n",
    "\n",
    "# Process the PDF directory\n",
    "results = process_directory(\n",
    "    pdf_dir=\"data/docs\",  # Updated PDF directory\n",
    "    output_file=\"data/extracted_text.txt\",\n",
    "    cleaned_output=\"data/cleaned_text.txt\",\n",
    "    word2vec_file=\"models/astro_vec_model\",\n",
    "    vector_size=400,\n",
    "    window=10,\n",
    "    min_count=20\n",
    ")\n",
    "\n",
    "print(f\"Results: {results}\")"
   ]
  }
 ],
 "metadata": {
  "kernelspec": {
   "display_name": "da_astro-word2vec",
   "language": "python",
   "name": "da_astro-word2vec"
  },
  "language_info": {
   "codemirror_mode": {
    "name": "ipython",
    "version": 3
   },
   "file_extension": ".py",
   "mimetype": "text/x-python",
   "name": "python",
   "nbconvert_exporter": "python",
   "pygments_lexer": "ipython3",
   "version": "3.11.11"
  }
 },
 "nbformat": 4,
 "nbformat_minor": 2
}
